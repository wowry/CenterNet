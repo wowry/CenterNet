{
 "cells": [
  {
   "cell_type": "code",
   "execution_count": 1,
   "id": "cf17847e",
   "metadata": {},
   "outputs": [
    {
     "name": "stderr",
     "output_type": "stream",
     "text": [
      "/work/shuhei-ky/anaconda3/envs/py38/lib/python3.8/site-packages/tqdm/auto.py:22: TqdmWarning: IProgress not found. Please update jupyter and ipywidgets. See https://ipywidgets.readthedocs.io/en/stable/user_install.html\n",
      "  from .autonotebook import tqdm as notebook_tqdm\n"
     ]
    }
   ],
   "source": [
    "import torch\n",
    "import os\n",
    "import numpy as np\n",
    "import matplotlib.pyplot as plt\n",
    "import seaborn as sb\n",
    "import pandas as pd\n",
    "from matplotlib import rc"
   ]
  },
  {
   "cell_type": "code",
   "execution_count": 2,
   "id": "761634b2",
   "metadata": {},
   "outputs": [],
   "source": [
    "exp_id = 'kitti_resdcnddu'\n",
    "arch = 'resdcnddu_101'\n",
    "exp_dir = f'/work/shuhei-ky/exp/CenterNet/models/gmm/{exp_id}'"
   ]
  },
  {
   "cell_type": "code",
   "execution_count": 3,
   "id": "4f18fe8c",
   "metadata": {},
   "outputs": [],
   "source": [
    "\"\"\"\n",
    "logits_kitti = torch.load(f\"{exp_dir}/logits_dladdu_34_kitti.pt\").cpu()\n",
    "logits_weather_kitti = torch.load(f\"{exp_dir}/logits_dladdu_34_weather_kitti.pt\").cpu()\n",
    "logits_bdd = torch.load(f\"{exp_dir}/logits_dladdu_34_bdd.pt\").cpu()\n",
    "logits_coco = torch.load(f\"{exp_dir}/logits_dladdu_34_coco.pt\").cpu()\n",
    "\"\"\"\n",
    "densities_kitti = torch.load(f\"{exp_dir}/densities_{arch}_kitti.pt\").cpu()\n",
    "densities_noise_kitti = torch.load(f\"{exp_dir}/densities_{arch}_noise_kitti.pt\").cpu()\n",
    "densities_weather_kitti = torch.load(f\"{exp_dir}/densities_{arch}_weather_kitti.pt\").cpu()\n",
    "densities_coco = torch.load(f\"{exp_dir}/densities_{arch}_coco.pt\").cpu()\n",
    "\n",
    "entropies_kitti = torch.load(f\"{exp_dir}/entropies_{arch}_kitti.pt\").cpu()\n",
    "entropies_noise_kitti = torch.load(f\"{exp_dir}/entropies_{arch}_noise_kitti.pt\").cpu()\n",
    "entropies_weather_kitti = torch.load(f\"{exp_dir}/entropies_{arch}_weather_kitti.pt\").cpu()\n",
    "entropies_coco = torch.load(f\"{exp_dir}/entropies_{arch}_coco.pt\").cpu()"
   ]
  },
  {
   "cell_type": "code",
   "execution_count": 4,
   "id": "f97f595f",
   "metadata": {},
   "outputs": [],
   "source": [
    "epistemic_uncertainties_kitti = torch.load(f\"{exp_dir}/epistemic_uncertainties_{arch}_kitti.pt\").cpu()\n",
    "aleatoric_uncertainties_kitti = torch.load(f\"{exp_dir}/aleatoric_uncertainties_{arch}_kitti.pt\").cpu()\n",
    "epistemic_uncertainties_noise_kitti = torch.load(f\"{exp_dir}/epistemic_uncertainties_{arch}_noise_kitti.pt\").cpu()\n",
    "aleatoric_uncertainties_noise_kitti = torch.load(f\"{exp_dir}/aleatoric_uncertainties_{arch}_noise_kitti.pt\").cpu()\n",
    "epistemic_uncertainties_coco = torch.load(f\"{exp_dir}/epistemic_uncertainties_{arch}_coco.pt\").cpu()\n",
    "aleatoric_uncertainties_coco = torch.load(f\"{exp_dir}/aleatoric_uncertainties_{arch}_coco.pt\").cpu()"
   ]
  },
  {
   "cell_type": "code",
   "execution_count": 5,
   "id": "d620c01f",
   "metadata": {},
   "outputs": [],
   "source": [
    "clrs = ['#1f77b4','#ff7f0e', '#2ca02c','#d62728', '#9467bd', '#8c564b', '#e377c2', '#7f7f7f', '#bcbd22','#17becf']\n",
    "\n",
    "sb.set_style('whitegrid')\n",
    "sb.set_context(\"paper\", font_scale=1, rc={\"lines.linewidth\": 2.5})\n",
    "\n",
    "rc('text', usetex=False)"
   ]
  },
  {
   "cell_type": "code",
   "execution_count": 6,
   "id": "ec9522d0",
   "metadata": {},
   "outputs": [],
   "source": [
    "def plot_density(densities1, densities2, binrange, separate_ID=False):\n",
    "    clrs = ['#1f77b4','#ff7f0e', '#2ca02c','#d62728', '#9467bd', '#8c564b', '#e377c2', '#7f7f7f', '#bcbd22','#17becf']\n",
    "    sb.set_style('whitegrid')\n",
    "    \n",
    "    quantile_array = np.percentile(densities1, q=[80])\n",
    "    print(\"quantile_array:\", quantile_array)\n",
    "\n",
    "    plt.figure(figsize=(2.5,2.5/1.6))\n",
    "    plt.tight_layout()\n",
    "\n",
    "    range = dict(bins=30, binrange=binrange, element=\"step\", fill=True, alpha=0.5)\n",
    "    kw_separate_id = dict(hue=\"category\", multiple=\"stack\",\n",
    "                hue_order=[1, 0],\n",
    "                palette=[sb.color_palette()[4], sb.color_palette()[0]]) if separate_ID else dict(color=sb.color_palette()[0])\n",
    "\n",
    "    sb.histplot(densities1, **kw_separate_id,\n",
    "                stat='probability', kde=False, **range, label=\"dummy\", legend=False) # 'Dirty-MNIST (In-distribution)')\n",
    "    sb.histplot(densities2, color=sb.color_palette()[1],\n",
    "                stat='probability', kde=False, **range, label=\"dummy\", legend=False) #, label='Fashion-MNIST (OoD)')\n",
    "\n",
    "\n",
    "    plt.xlabel('Log Density', fontsize=12)\n",
    "    plt.ylabel('Fraction', fontsize=12)\n",
    "    \n",
    "    vmin, vmax = plt.gca().get_ylim()\n",
    "    \"\"\"\n",
    "    for each in quantile_array:\n",
    "        plt.vlines(each, vmin, vmax, color='red', linestyles='dotted')\n",
    "    \"\"\"\n",
    "    \n",
    "    return quantile_array[0]\n",
    "\n",
    "\n",
    "def plot_entropy(entropies1, entropies2, binrange, separate_ID=False):\n",
    "    common_kwargs = dict(stat='probability', kde=False, bins=12, binrange=binrange, label=\"dummy\", legend=False, element=\"step\", alpha=0.5)\n",
    "    id_kwargs = dict(\n",
    "              hue=\"category\", multiple=\"stack\", \n",
    "              palette=[sb.color_palette()[0], sb.color_palette()[4]]) if separate_ID else dict(color=sb.color_palette()[0]) \n",
    "    \n",
    "    quantile_array = np.percentile(entropies1, q=[12])\n",
    "    print(\"quantile_array:\", quantile_array)\n",
    "\n",
    "    fig, axes = plt.subplots(2, 1, sharex=True, figsize=(2.5,2.5/1.6), gridspec_kw={'height_ratios': [1, 3]}, constrained_layout=True)\n",
    "    fig.subplots_adjust(hspace=0.30)  # adjust space between axes\n",
    "\n",
    "    for ax in axes:\n",
    "        sb.histplot(entropies1, **id_kwargs,\n",
    "                    **common_kwargs, ax=ax)\n",
    "        sb.histplot(entropies2, color=sb.color_palette()[1],\n",
    "                    **common_kwargs, ax=ax)\n",
    "\n",
    "    axes[0].set_ylim(0.4, 1.2)  # outliers only\n",
    "    axes[1].set_ylim(0, .05)  # most of the data\n",
    "\n",
    "    axes[0].spines['bottom'].set_visible(False)\n",
    "    axes[1].spines['top'].set_visible(False)\n",
    "    axes[0].set_ylabel(\"\")\n",
    "    axes[1].set_ylabel(\"Fraction\", fontsize=12)\n",
    "    axes[1].set_xlabel(\"Entropy\", fontsize=12)\n",
    "\n",
    "    axes[1].yaxis.set_label_coords(-0.04, 0.5, fig.transFigure)\n",
    "\n",
    "    d = .5  # proportion of vertical to horizontal extent of the slanted line\n",
    "    kwargs = dict(marker=[(-1, -d), (1, d)], markersize=12,\n",
    "                  linestyle=\"none\", color='k', mec='k', mew=1, clip_on=False)\n",
    "    axes[0].plot([0, 1], [0, 0], transform=axes[0].transAxes, **kwargs)\n",
    "    axes[1].plot([0, 1], [1, 1], transform=axes[1].transAxes, **kwargs)\n",
    "    \"\"\"\n",
    "    vmin, vmax = plt.gca().get_ylim()\n",
    "    \n",
    "    for each in quantile_array:\n",
    "        plt.vlines(each, vmin, vmax, color='red', linestyles='dotted')\n",
    "    \"\"\"\n",
    "\n",
    "    fig.set_size_inches(2.5,2.5/1.6)\n",
    "\n",
    "    return quantile_array[0]\n",
    "\n",
    "\n",
    "separate_ID = False"
   ]
  },
  {
   "cell_type": "code",
   "execution_count": 16,
   "id": "6d6fece8",
   "metadata": {},
   "outputs": [
    {
     "name": "stdout",
     "output_type": "stream",
     "text": [
      "quantile_array: [-227.27796631]\n"
     ]
    },
    {
     "data": {
      "image/png": "[encoded data removed]",
      "text/plain": [
       "<Figure size 250x156.25 with 1 Axes>"
      ]
     },
     "metadata": {},
     "output_type": "display_data"
    }
   ],
   "source": [
    "density_threshold = plot_density(densities_kitti, densities_coco, binrange=[-2500, 200], separate_ID=separate_ID)\n",
    "plt.savefig(f'{exp_dir}/densities_hist_kitti_vs_coco.png', bbox_inches='tight')"
   ]
  },
  {
   "cell_type": "code",
   "execution_count": 17,
   "id": "7cd0c1b0",
   "metadata": {},
   "outputs": [
    {
     "name": "stdout",
     "output_type": "stream",
     "text": [
      "quantile_array: [-227.27796631]\n"
     ]
    },
    {
     "data": {
      "image/png": "[encoded data removed]",
      "text/plain": [
       "<Figure size 250x156.25 with 1 Axes>"
      ]
     },
     "metadata": {},
     "output_type": "display_data"
    }
   ],
   "source": [
    "density_threshold = plot_density(densities_kitti, densities_noise_kitti, binrange=[-2500, 200], separate_ID=separate_ID)\n",
    "plt.savefig(f'{exp_dir}/densities_hist_kitti_vs_noise_kitti.png', bbox_inches='tight')"
   ]
  },
  {
   "cell_type": "code",
   "execution_count": 18,
   "id": "84e225d2",
   "metadata": {},
   "outputs": [
    {
     "name": "stdout",
     "output_type": "stream",
     "text": [
      "quantile_array: [-227.27796631]\n"
     ]
    },
    {
     "data": {
      "image/png": "[encoded data removed]",
      "text/plain": [
       "<Figure size 250x156.25 with 1 Axes>"
      ]
     },
     "metadata": {},
     "output_type": "display_data"
    }
   ],
   "source": [
    "density_threshold = plot_density(densities_kitti, densities_weather_kitti, binrange=[-2500, 200], separate_ID=separate_ID)\n",
    "plt.savefig(f'{exp_dir}/densities_hist_kitti_vs_weather_kitti.png', bbox_inches='tight')"
   ]
  },
  {
   "cell_type": "code",
   "execution_count": 19,
   "id": "48211a6e",
   "metadata": {},
   "outputs": [
    {
     "name": "stdout",
     "output_type": "stream",
     "text": [
      "quantile_array: [1.09214711]\n"
     ]
    },
    {
     "name": "stderr",
     "output_type": "stream",
     "text": [
      "/tmp/ipykernel_1460522/318396484.py:44: UserWarning: This figure was using constrained_layout, but that is incompatible with subplots_adjust and/or tight_layout; disabling constrained_layout.\n",
      "  fig.subplots_adjust(hspace=0.30)  # adjust space between axes\n"
     ]
    },
    {
     "data": {
      "image/png": "[encoded data removed]",
      "text/plain": [
       "<Figure size 250x156.25 with 2 Axes>"
      ]
     },
     "metadata": {},
     "output_type": "display_data"
    }
   ],
   "source": [
    "entropy_threshold = plot_entropy(entropies_kitti, entropies_coco, binrange=[0.97, 1.1], separate_ID=separate_ID)\n",
    "plt.savefig(f'{exp_dir}/entropies_hist_kitti_vs_coco.png', bbox_inches='tight')"
   ]
  },
  {
   "cell_type": "code",
   "execution_count": 20,
   "id": "8875873a",
   "metadata": {},
   "outputs": [
    {
     "name": "stdout",
     "output_type": "stream",
     "text": [
      "quantile_array: [1.09214711]\n"
     ]
    },
    {
     "name": "stderr",
     "output_type": "stream",
     "text": [
      "/tmp/ipykernel_1460522/318396484.py:44: UserWarning: This figure was using constrained_layout, but that is incompatible with subplots_adjust and/or tight_layout; disabling constrained_layout.\n",
      "  fig.subplots_adjust(hspace=0.30)  # adjust space between axes\n"
     ]
    },
    {
     "data": {
      "image/png": "[encoded data removed]",
      "text/plain": [
       "<Figure size 250x156.25 with 2 Axes>"
      ]
     },
     "metadata": {},
     "output_type": "display_data"
    }
   ],
   "source": [
    "entropy_threshold = plot_entropy(entropies_kitti, entropies_noise_kitti, binrange=[0.97, 1.1], separate_ID=separate_ID)\n",
    "plt.savefig(f'{exp_dir}/entropies_hist_kitti_vs_noise_kitti.png', bbox_inches='tight')"
   ]
  },
  {
   "cell_type": "code",
   "execution_count": 21,
   "id": "d5adf747",
   "metadata": {},
   "outputs": [
    {
     "name": "stdout",
     "output_type": "stream",
     "text": [
      "quantile_array: [1.09214711]\n"
     ]
    },
    {
     "name": "stderr",
     "output_type": "stream",
     "text": [
      "/tmp/ipykernel_1460522/318396484.py:44: UserWarning: This figure was using constrained_layout, but that is incompatible with subplots_adjust and/or tight_layout; disabling constrained_layout.\n",
      "  fig.subplots_adjust(hspace=0.30)  # adjust space between axes\n"
     ]
    },
    {
     "data": {
      "image/png": "[encoded data removed]",
      "text/plain": [
       "<Figure size 250x156.25 with 2 Axes>"
      ]
     },
     "metadata": {},
     "output_type": "display_data"
    }
   ],
   "source": [
    "entropy_threshold = plot_entropy(entropies_kitti, entropies_weather_kitti, binrange=[0.97, 1.1], separate_ID=separate_ID)\n",
    "plt.savefig(f'{exp_dir}/entropies_hist_kitti_vs_weather_kitti.png', bbox_inches='tight')"
   ]
  },
  {
   "cell_type": "code",
   "execution_count": 132,
   "id": "44702d22",
   "metadata": {},
   "outputs": [],
   "source": [
    "torch.save(density_threshold, f\"{exp_dir}/density_threshold_{arch}.pt\")\n",
    "torch.save(entropy_threshold, f\"{exp_dir}/entropy_threshold_{arch}.pt\")"
   ]
  },
  {
   "cell_type": "code",
   "execution_count": null,
   "id": "37426aab",
   "metadata": {},
   "outputs": [],
   "source": []
  }
 ],
 "metadata": {
  "kernelspec": {
   "display_name": "Python 3 (ipykernel)",
   "language": "python",
   "name": "python3"
  },
  "language_info": {
   "codemirror_mode": {
    "name": "ipython",
    "version": 3
   },
   "file_extension": ".py",
   "mimetype": "text/x-python",
   "name": "python",
   "nbconvert_exporter": "python",
   "pygments_lexer": "ipython3",
   "version": "3.8.13"
  },
  "vscode": {
   "interpreter": {
    "hash": "25a4cb11cd538f6c7ba7c5c7eb50ab54d1cc2e84fe889035e93b17348bbbe86f"
   }
  }
 },
 "nbformat": 4,
 "nbformat_minor": 5
}

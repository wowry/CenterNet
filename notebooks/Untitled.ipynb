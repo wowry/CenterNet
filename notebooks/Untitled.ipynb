{
 "cells": [
  {
   "cell_type": "code",
   "execution_count": 9,
   "id": "902d1cb5",
   "metadata": {},
   "outputs": [],
   "source": [
    "import torch\n",
    "import numpy as np\n",
    "import cv2\n",
    "import os\n",
    "import matplotlib.pyplot as plt\n",
    "%matplotlib inline"
   ]
  },
  {
   "cell_type": "code",
   "execution_count": 10,
   "id": "783fbb4d",
   "metadata": {},
   "outputs": [],
   "source": [
    "image_folderpath = \"/work/shuhei-ky/exp/CenterNet/data/kitti/training/image_2\"\n",
    "num_images = 7481"
   ]
  },
  {
   "cell_type": "code",
   "execution_count": 34,
   "id": "f2d9a2d0",
   "metadata": {},
   "outputs": [],
   "source": [
    "mean = 0\n",
    "sigma = 100\n",
    "noise_image_folderpath = f\"/work/shuhei-ky/exp/CenterNet/data/kitti/training/noise_image_2_{mean}_{sigma}\""
   ]
  },
  {
   "cell_type": "code",
   "execution_count": 35,
   "id": "cf1110b9",
   "metadata": {},
   "outputs": [],
   "source": [
    "if not os.path.exists(noise_image_folderpath):\n",
    "    os.makedirs(noise_image_folderpath)"
   ]
  },
  {
   "cell_type": "code",
   "execution_count": 36,
   "id": "6d644503",
   "metadata": {
    "scrolled": false
   },
   "outputs": [],
   "source": [
    "for img_id in range(num_images):\n",
    "    img_path = os.path.join(image_folderpath, '{:06d}.png'.format(img_id))\n",
    "    save_img_path = os.path.join(noise_image_folderpath, '{:06d}.png'.format(img_id))\n",
    "    image = cv2.imread(img_path)\n",
    "    \n",
    "    noise = np.random.normal(0, sigma, np.shape(image))\n",
    "    noise_image = image + noise\n",
    "\n",
    "    # Pixel value adjustment [0,255]\n",
    "    noise_image[noise_image > 255] = 255\n",
    "    noise_image[noise_image < 0] = 0\n",
    "\n",
    "    noise_image = noise_image.astype(np.uint8)    # Float -> Uint\n",
    "    cv2.imwrite(save_img_path, noise_image)\n",
    "    \"\"\"\n",
    "    plt.imshow(cv2.cvtColor(image, cv2.COLOR_BGR2RGB))\n",
    "    plt.show()\n",
    "    \n",
    "    plt.imshow(cv2.cvtColor(noise_image, cv2.COLOR_BGR2RGB)) # OpenCV は色がGBR順なのでRGB順に並べ替える\n",
    "    plt.show()\n",
    "    \"\"\""
   ]
  },
  {
   "cell_type": "code",
   "execution_count": null,
   "id": "ecb873d1",
   "metadata": {},
   "outputs": [],
   "source": []
  },
  {
   "cell_type": "code",
   "execution_count": null,
   "id": "12f449e8",
   "metadata": {},
   "outputs": [],
   "source": []
  }
 ],
 "metadata": {
  "kernelspec": {
   "display_name": "Python 3 (ipykernel)",
   "language": "python",
   "name": "python3"
  },
  "language_info": {
   "codemirror_mode": {
    "name": "ipython",
    "version": 3
   },
   "file_extension": ".py",
   "mimetype": "text/x-python",
   "name": "python",
   "nbconvert_exporter": "python",
   "pygments_lexer": "ipython3",
   "version": "3.8.13"
  }
 },
 "nbformat": 4,
 "nbformat_minor": 5
}
